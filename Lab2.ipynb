{
 "cells": [
  {
   "cell_type": "code",
   "execution_count": 1,
   "metadata": {},
   "outputs": [],
   "source": [
    "import requests\n",
    "import json\n",
    "import os\n",
    "import pprint\n",
    "\n",
    "# Test connection\n",
    "r = requests.get('http://localhost:9200')\n",
    "\n",
    "print(r.json()['tagline'])"
   ]
  },
  {
   "cell_type": "markdown",
   "metadata": {},
   "source": [
    "## Define an ES analyzer for Polish texts containing:\n",
    "- standard tokenizer\n",
    "- synonym filter with the following definitions:\n",
    "    - kpk - kodeks postępowania karnego\n",
    "    - kpc - kodeks postępowania cywilnego\n",
    "    - kk - kodeks karny\n",
    "    - kc - kodeks cywilny\n",
    "- Morfologik-based lemmatizer\n",
    "- lowercase filter"
   ]
  },
  {
   "cell_type": "code",
   "execution_count": 2,
   "metadata": {},
   "outputs": [],
   "source": [
    "headers = {\"Content-Type\": \"application/json\"}  # needed for all es queries\n",
    "es_url = 'http://localhost:9200'  # default path to warking es sevice\n",
    "index_name = 'my_index_lab2'"
   ]
  },
  {
   "cell_type": "code",
   "execution_count": 3,
   "metadata": {},
   "outputs": [],
   "source": [
    "query = json.dumps({\n",
    "   \"settings\":{\n",
    "       \"analysis\":{\n",
    "           \"filter\": {\n",
    "               \"synonyms_lab2\": {\n",
    "                   \"type\": \"synonym\",\n",
    "                   \"synonyms\": [ \n",
    "                       \"kpk => kodeks postępowania karnego\",\n",
    "                       \"kpc => kodeks postępowania cywilnego\",\n",
    "                       \"kk => kodeks karny\",\n",
    "                       \"kc => kodeks cywilny\"]\n",
    "               }\n",
    "           },\n",
    "           \"analyzer\":{\n",
    "               \"analyzer_lab2\":{ \n",
    "                   \"type\":\"custom\",\n",
    "                   \"tokenizer\":\"standard\",\n",
    "                   \"filter\":[\n",
    "                       \"lowercase\",\n",
    "                       \"synonyms_lab2\",\n",
    "                       \"morfologik_stem\",\n",
    "                       \"stop\"\n",
    "                   ]\n",
    "               }\n",
    "           }\n",
    "       }\n",
    "   },\n",
    "   \"mappings\":{\n",
    "       \"properties\":{\n",
    "          \"content\": {\n",
    "             \"type\":\"text\",\n",
    "             \"analyzer\":\"analyzer_lab2\" \n",
    "         }\n",
    "      }\n",
    "   }\n",
    "})\n"
   ]
  },
  {
   "cell_type": "markdown",
   "metadata": {},
   "source": [
    "For synosyms is needed to create own custom filter. Lowercase is helpful make all letter lowercase, morfologik_stem is lemmatizer for Polish language and stop filter ignores tokens like full stop or comma.\n",
    "\n",
    "Mapping let us analyze defined field using custom analyzer. "
   ]
  },
  {
   "cell_type": "markdown",
   "metadata": {},
   "source": [
    "## Define an ES index for storing the contents of the legislative acts."
   ]
  },
  {
   "cell_type": "code",
   "execution_count": 4,
   "metadata": {},
   "outputs": [
    {
     "name": "stdout",
     "output_type": "stream",
     "text": [
      "{\"acknowledged\":true,\"shards_acknowledged\":true,\"index\":\"my_index_lab2\"}\n"
     ]
    }
   ],
   "source": [
    "response = requests.put(es_url + '/' + index_name, \n",
    "                        headers=headers,\n",
    "                        data=query)\n",
    "print(response.text)"
   ]
  },
  {
   "cell_type": "markdown",
   "metadata": {},
   "source": [
    "Using the elasticsearch extension for browser (https://elasticvue.com/), I can check the created index:\n",
    "\n",
    "![title](img/index_created.JPG)"
   ]
  },
  {
   "cell_type": "markdown",
   "metadata": {},
   "source": [
    "## Load the data to the ES index."
   ]
  },
  {
   "cell_type": "code",
   "execution_count": 5,
   "metadata": {},
   "outputs": [],
   "source": [
    "import os\n",
    "\n",
    "data_path = \"./data_lab1/\"\n",
    "\n",
    "for filename in os.listdir(data_path):\n",
    "    if filename.endswith(\".txt\"): \n",
    "        filepath = os.path.join(data_path, filename) \n",
    "        content = open(filepath, 'r', encoding='utf-8').read().split()\n",
    "        content = \" \".join(content)\n",
    "        \n",
    "        query = json.dumps({\"content\": content, \"title\": filename})\n",
    "        \n",
    "        response = requests.post(es_url + '/' + index_name + '/_doc', headers=headers,\n",
    "                       data=query)\n",
    "#         print(response.text)\n",
    "    else:\n",
    "        continue"
   ]
  },
  {
   "cell_type": "markdown",
   "metadata": {},
   "source": [
    "Using elasticsearch extension for browser could be verified also the number of indexed documents.\n",
    "\n",
    "![title](img/indexed_docs.JPG)"
   ]
  },
  {
   "cell_type": "code",
   "execution_count": 6,
   "metadata": {},
   "outputs": [
    {
     "name": "stdout",
     "output_type": "stream",
     "text": [
      "{\"my_index_lab2\":{\"mappings\":{\"properties\":{\"content\":{\"type\":\"text\",\"analyzer\":\"analyzer_lab2\"},\"title\":{\"type\":\"text\",\"fields\":{\"keyword\":{\"type\":\"keyword\",\"ignore_above\":256}}}}}}}\n"
     ]
    }
   ],
   "source": [
    "query = {}\n",
    "response = requests.get(es_url + '/' + index_name + '/_mapping',\n",
    "                        headers=headers,\n",
    "                        data=query)\n",
    "print(response.text)"
   ]
  },
  {
   "cell_type": "markdown",
   "metadata": {},
   "source": [
    "## Determine the number of legislative acts containing the word ustawa (in any form)."
   ]
  },
  {
   "cell_type": "code",
   "execution_count": 7,
   "metadata": {},
   "outputs": [
    {
     "name": "stdout",
     "output_type": "stream",
     "text": [
      "1179\n"
     ]
    }
   ],
   "source": [
    "query = json.dumps(\n",
    "    {\n",
    "        \"query\": {\n",
    "            \"match\": {\n",
    "                \"content\": {\n",
    "                    \"query\": \"ustawa\"\n",
    "#                     \"analyzer\": \"analyzer_lab2\" ---> default for field\n",
    "                }\n",
    "            }\n",
    "        }\n",
    "    })\n",
    "response = requests.get(es_url + '/' + index_name + '/_search', \n",
    "                        headers=headers,\n",
    "                        data=query)\n",
    "print(response.json()['hits']['total']['value'])"
   ]
  },
  {
   "cell_type": "markdown",
   "metadata": {},
   "source": [
    "## Determine the number of legislative acts containing the words kodeks postępowania cywilnego in the specified order, but in an any inflection form."
   ]
  },
  {
   "cell_type": "code",
   "execution_count": 8,
   "metadata": {},
   "outputs": [
    {
     "name": "stdout",
     "output_type": "stream",
     "text": [
      "100\n"
     ]
    }
   ],
   "source": [
    "# match_phrase - search phrase in the specified order\n",
    "\n",
    "query = json.dumps(\n",
    "    {\n",
    "        \"query\": {\n",
    "            \"match_phrase\": {\n",
    "                \"content\": {\n",
    "                    \"query\": \"kodeks postępowania cywilnego\"\n",
    "#                     \"analyzer\": \"analyzer_lab2\" ---> default for field\n",
    "                }\n",
    "            }\n",
    "        }\n",
    "    })\n",
    "response = requests.get(es_url + '/' + index_name + '/_search', \n",
    "                        headers=headers,\n",
    "                        data=query)\n",
    "print(response.json()['hits']['total']['value'])"
   ]
  },
  {
   "cell_type": "markdown",
   "metadata": {},
   "source": [
    "## Determine the number of legislative acts containing the words wchodzi w życie (in any form) allowing for up to 2 additional words in the searched phrase."
   ]
  },
  {
   "cell_type": "code",
   "execution_count": 9,
   "metadata": {},
   "outputs": [
    {
     "name": "stdout",
     "output_type": "stream",
     "text": [
      "1175\n"
     ]
    }
   ],
   "source": [
    "query = json.dumps(\n",
    "    {\n",
    "        \"query\": {\n",
    "            \"match_phrase\": {\n",
    "                \"content\": {\n",
    "                    \"query\": \"wchodzi w życie\",\n",
    "                    \"slop\": 2  # how many words could be added in the searched phrase\n",
    "#                     \"analyzer\": \"analyzer_lab2\" #---> default for field\n",
    "                }\n",
    "            }\n",
    "        }\n",
    "    })\n",
    "response = requests.get(es_url + '/' + index_name + '/_search', \n",
    "                        headers=headers,\n",
    "                        data=query)\n",
    "print(response.json()['hits']['total']['value'])"
   ]
  },
  {
   "cell_type": "markdown",
   "metadata": {},
   "source": [
    "Simple check for phrase \"wchodzi w życie\" gave 1091 documents. So above query included also for example: acts containing \"weszła w życie\". "
   ]
  },
  {
   "cell_type": "markdown",
   "metadata": {},
   "source": [
    "## Determine the 10 documents that are the most relevant for the phrase konstytucja.\n",
    "## Print the excerpts containing the word konstytucja (up to three excerpts per document) from the previous task."
   ]
  },
  {
   "cell_type": "code",
   "execution_count": 10,
   "metadata": {},
   "outputs": [
    {
     "name": "stdout",
     "output_type": "stream",
     "text": [
      "Score: 6.870618\n",
      "{'content': ['Zasady, na których opierać się ma <em>Konstytucja</em> mogą być '\n",
      "             'poddane pod referendum. 2.',\n",
      "             'Inicjatywa ustawodawcza w zakresie przedstawienia Zgromadzeniu '\n",
      "             'Narodowemu projektu nowej <em>Konstytucji</em>',\n",
      "             'Do zgłoszenia projektu <em>Konstytucji</em> załącza się wykaz '\n",
      "             'obywateli popierających zgłoszenie, zawierający']}\n",
      "Score: 6.682023\n",
      "{'content': ['Polskiej do ratyfikacji jest dokonywane po uzyskaniu zgody, o '\n",
      "             'której mowa w art. 89 ust. 1 i art. 90 <em>Konstytucji</em>',\n",
      "             'umowy międzynarodowej lub załącznika nie wypełnia przesłanek '\n",
      "             'określonych w art. 89 ust. 1 lub art. 90 <em>Konstytucji</em>',\n",
      "             'okoliczności, a umowa międzynarodowa nie wypełnia przesłanek '\n",
      "             'określonych w art. 89 ust. 1 lub art. 90 <em>Konstytucji</em>']}\n",
      "Score: 6.6318135\n",
      "{'content': ['Jeżeli Trybunał Konstytucyjny wyda orzeczenie o sprzeczności '\n",
      "             'celów partii politycznej z <em>Konstytucją</em>,',\n",
      "             'W razie powstania wątpliwości co do zgodności z '\n",
      "             '<em>Konstytucją</em> celów lub zasad działania partii '\n",
      "             'politycznej',\n",
      "             'Wnioski o stwierdzenie zgodności z <em>Konstytucją</em> celów '\n",
      "             'partii politycznych, określonych w statucie lub']}\n",
      "Score: 6.627447\n",
      "{'content': ['W zakresie określonym w art. 107 <em>Konstytucji</em> '\n",
      "             'odpowiedzialność przed Trybunałem Stanu ponoszą również',\n",
      "             'Prezydent może być pociągnięty do odpowiedzialności przed '\n",
      "             'Trybunałem Stanu za naruszenie <em>Konstytucji</em>,',\n",
      "             'Za naruszenie <em>Konstytucji</em> lub ustawy, w związku z '\n",
      "             'zajmowanym stanowiskiem lub w zakresie swojego urzędowania']}\n",
      "Score: 6.252478\n",
      "{'content': [', ratyfikowanymi umowami międzynarodowymi i ustawami, 4) '\n",
      "             'stwierdzenie zgodności z <em>Konstytucją</em> celów lub',\n",
      "             'Trybunału Konstytucyjnego z wnioskami o: 1) stwierdzenie '\n",
      "             'zgodności ustaw i umów międzynarodowych z <em>Konstytucją</em>',\n",
      "             'w ustawie, 3) stwierdzenie zgodności przepisów prawa wydawanych '\n",
      "             'przez centralne organy państwowe, z <em>Konstytucją</em>']}\n",
      "Score: 6.100043\n",
      "{'content': ['W Dzienniku Ustaw Rzeczypospolitej Polskiej, zwanym dalej '\n",
      "             '\"Dziennikiem Ustaw\", ogłasza się: 1) <em>Konstytucję</em>',\n",
      "             'Rzeczypospolitej Polskiej, wyborów do Sejmu i Senatu oraz '\n",
      "             'ważności referendum zatwierdzającego zmianę <em>Konstytucji</em>',\n",
      "             'również akty prawne dotyczące: 1) stanu wojny i zawarcia pokoju, '\n",
      "             '2) referendum zatwierdzającego zmianę <em>Konstytucji</em>']}\n",
      "Score: 5.9240685\n",
      "{'content': ['Prezydent Rzeczypospolitej Polskiej zarządza poddanie '\n",
      "             '<em>Konstytucji</em> pod referendum w trybie określonym',\n",
      "             'Przyjęcie w referendum <em>Konstytucji</em> następuje wówczas, '\n",
      "             'gdy opowiedziała się za nią większość biorących',\n",
      "             '2c i art. 9-11 ustawy konstytucyjnej z dnia 23 kwietnia 1992 r. '\n",
      "             'o trybie przygotowania i uchwalenia <em>Konstytucji</em>']}\n",
      "Score: 5.8469934\n",
      "{'content': ['Projekt ustawy nie może dotyczyć spraw, dla których '\n",
      "             '<em>Konstytucja</em> Rzeczypospolitej Polskiej zastrzega '\n",
      "             'wyłączną',\n",
      "             'Projekt ustawy wniesiony do Marszałka Sejmu powinien odpowiadać '\n",
      "             'wymogom zawartym w <em>Konstytucji</em> i Regulaminie',\n",
      "             'postępowania w sprawie wykonywania inicjatywy ustawodawczej '\n",
      "             'przez obywateli, o której mowa w art. 118 ust. 2 '\n",
      "             '<em>Konstytucji</em>']}\n",
      "Score: 5.4629164\n",
      "{'content': ['Rzecznik Praw Dziecka, zwany dalej Rzecznikiem, stoi na straży '\n",
      "             'praw dziecka określonych w <em>Konstytucji</em>',\n",
      "             'uroczyście, że przy wykonywaniu powierzonych mi obowiązków '\n",
      "             'Rzecznika Praw Dziecka dochowam wierności <em>Konstytucji</em>']}\n",
      "Score: 5.4629164\n",
      "{'content': ['Krajowa Rada Sądownictwa, zwana dalej \"Radą\", realizuje cele '\n",
      "             'określone w <em>Konstytucji</em> Rzeczypospolitej',\n",
      "             'szczególności: 1) podejmuje uchwały w sprawach wystąpienia do '\n",
      "             'Trybunału Konstytucyjnego o zbadanie zgodności z '\n",
      "             '<em>Konstytucją</em>']}\n"
     ]
    }
   ],
   "source": [
    "query = json.dumps(\n",
    "    {\n",
    "        \"query\": {\n",
    "            \"match_phrase\": {\n",
    "                \"content\": {\n",
    "                    \"query\": \"konstytucja\"\n",
    "#                     \"analyzer\": \"analyzer_lab2\" #---> default for field\n",
    "                }\n",
    "            }\n",
    "        },\n",
    "        \"size\": 45,  # needed to extract all found documents \n",
    "        \"highlight\": {\n",
    "            \"fields\": {\n",
    "              \"content\": {}\n",
    "            },\n",
    "            \"boundary_scanner\": \"sentence\",  # Excerpts should be sentence\n",
    "            \"number_of_fragments\": 3,  # up to 3 excerpts per document\n",
    "            \"order\": \"score\"\n",
    "        }\n",
    "    })\n",
    "response = requests.get(es_url + '/' + index_name + '/_search', \n",
    "                        headers=headers,\n",
    "                        data=query)\n",
    "\n",
    "hits = response.json()['hits']\n",
    "\n",
    "# Sorting documents by score - highest score most relevant doc\n",
    "sorted_hits = sorted(hits['hits'], key=lambda x: x['_score'], reverse=True)\n",
    "for hit in sorted_hits[:10]:\n",
    "    print(\"Score:\", hit['_score'])\n",
    "    pprint.pprint(hit['highlight'])"
   ]
  },
  {
   "cell_type": "markdown",
   "metadata": {},
   "source": [
    "Downloading all relevant documents take a little bit more time than by default query. Above query shows score per document and the excerpts for each doc."
   ]
  }
 ],
 "metadata": {
  "kernelspec": {
   "display_name": "Python 3",
   "language": "python",
   "name": "python3"
  },
  "language_info": {
   "codemirror_mode": {
    "name": "ipython",
    "version": 3
   },
   "file_extension": ".py",
   "mimetype": "text/x-python",
   "name": "python",
   "nbconvert_exporter": "python",
   "pygments_lexer": "ipython3",
   "version": "3.6.10"
  }
 },
 "nbformat": 4,
 "nbformat_minor": 4
}
